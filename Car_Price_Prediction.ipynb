{
  "nbformat": 4,
  "nbformat_minor": 0,
  "metadata": {
    "colab": {
      "provenance": [],
      "authorship_tag": "ABX9TyNz4IojRBbh+HEJxRWJOxjT",
      "include_colab_link": true
    },
    "kernelspec": {
      "name": "python3",
      "display_name": "Python 3"
    },
    "language_info": {
      "name": "python"
    }
  },
  "cells": [
    {
      "cell_type": "markdown",
      "metadata": {
        "id": "view-in-github",
        "colab_type": "text"
      },
      "source": [
        "<a href=\"https://colab.research.google.com/github/OluwatodimuAdegoke/ComputerVisionCourse/blob/main/Car_Price_Prediction.ipynb\" target=\"_parent\"><img src=\"https://colab.research.google.com/assets/colab-badge.svg\" alt=\"Open In Colab\"/></a>"
      ]
    },
    {
      "cell_type": "code",
      "execution_count": 51,
      "metadata": {
        "id": "omt8_9vo2nHe"
      },
      "outputs": [],
      "source": [
        "import tensorflow as tf # Models\n",
        "import pandas as pd  # Reading and processing data\n",
        "import seaborn as sns # Visualization\n",
        "from tensorflow.keras.layers import Normalization"
      ]
    },
    {
      "cell_type": "markdown",
      "source": [
        "Data Preparation"
      ],
      "metadata": {
        "id": "60tPELDbXYiQ"
      }
    },
    {
      "cell_type": "code",
      "source": [
        "# Read the data\n",
        "data = pd.read_csv(\"train.csv\",sep=',')\n",
        "data.shape\n",
        "# Plots the graphs of each variable against the other\n",
        "sns.pairplot(data[['years','km','rating','condition','economy','top speed','hp', 'torque','current price']])"
      ],
      "metadata": {
        "id": "4a_7fAvdUvzw"
      },
      "execution_count": null,
      "outputs": []
    },
    {
      "cell_type": "code",
      "source": [
        "tensor_data = tf.constant(data)\n",
        "# Cast to float32\n",
        "tensor_data = tf.cast(tensor_data,tf.float32)\n",
        "# Shuffle the data to avoid bias\n",
        "tensor_data = tf.random.shuffle(tensor_data)\n"
      ],
      "metadata": {
        "colab": {
          "base_uri": "https://localhost:8080/"
        },
        "id": "67ceh6mtUDLM",
        "outputId": "58c38ab3-5311-4b55-d32c-d6a8460e6cda"
      },
      "execution_count": 42,
      "outputs": [
        {
          "output_type": "stream",
          "name": "stdout",
          "text": [
            "tf.Tensor(\n",
            "[5.68000e+02 6.76727e+05 7.56074e+05 4.00000e+00 1.17511e+05 3.00000e+00\n",
            " 1.00000e+00 1.30000e+01 1.39000e+02 1.20000e+02 1.23000e+02 2.46242e+05], shape=(12,), dtype=float32)\n"
          ]
        }
      ]
    },
    {
      "cell_type": "code",
      "source": [
        "x = tensor_data[:,3:-1]\n",
        "print(x.shape)\n",
        "y = tensor_data[:,-1]\n",
        "y = tf.expand_dims(y, axis = -1)\n",
        "print(y.shape)"
      ],
      "metadata": {
        "colab": {
          "base_uri": "https://localhost:8080/"
        },
        "id": "v9zZhFFNWgL0",
        "outputId": "9f4a6ec5-358d-4b79-eb16-0c5318e4fd62"
      },
      "execution_count": 50,
      "outputs": [
        {
          "output_type": "stream",
          "name": "stdout",
          "text": [
            "(1000, 8)\n",
            "(1000, 1)\n"
          ]
        }
      ]
    },
    {
      "cell_type": "code",
      "source": [
        "# Normalize the input\n",
        "normalizer = Normalization()\n",
        "# Gets the mean and std itself\n",
        "normalizer.adapt(x)\n",
        "normalizer(x)"
      ],
      "metadata": {
        "colab": {
          "base_uri": "https://localhost:8080/"
        },
        "id": "4Pwg3wqbXoFU",
        "outputId": "a2001711-e381-4f15-8e3b-4f5220628b3c"
      },
      "execution_count": 56,
      "outputs": [
        {
          "output_type": "execute_result",
          "data": {
            "text/plain": [
              "<tf.Tensor: shape=(1000, 8), dtype=float32, numpy=\n",
              "array([[-0.90849847, -0.7756557 ,  0.00855837, ..., -0.30567393,\n",
              "        -0.07538996, -0.06760698],\n",
              "       [-1.4904962 ,  1.3275927 , -0.7046627 , ...,  0.7317388 ,\n",
              "         1.0461959 ,  0.69255364],\n",
              "       [ 1.4194926 , -0.10140122,  0.00855837, ...,  0.42051497,\n",
              "        -0.12415456,  0.50251347],\n",
              "       ...,\n",
              "       [-0.90849847, -0.8850054 , -1.4178838 , ...,  0.6279975 ,\n",
              "         0.5585499 ,  1.5477343 ],\n",
              "       [ 1.4194926 ,  0.43930662,  0.7217794 , ...,  0.05742051,\n",
              "         1.6801357 , -1.6829482 ],\n",
              "       [ 0.83749485, -0.737627  ,  0.00855837, ..., -0.0981914 ,\n",
              "         0.21719766, -1.5879282 ]], dtype=float32)>"
            ]
          },
          "metadata": {},
          "execution_count": 56
        }
      ]
    },
    {
      "cell_type": "code",
      "source": [],
      "metadata": {
        "id": "K3ohGwtUY-sd"
      },
      "execution_count": null,
      "outputs": []
    }
  ]
}