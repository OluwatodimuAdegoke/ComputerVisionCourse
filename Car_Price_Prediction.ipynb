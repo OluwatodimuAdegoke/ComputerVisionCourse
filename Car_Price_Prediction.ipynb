{
  "nbformat": 4,
  "nbformat_minor": 0,
  "metadata": {
    "colab": {
      "provenance": [],
      "authorship_tag": "ABX9TyNa4g8KEc5H9pHQhN09KhGh",
      "include_colab_link": true
    },
    "kernelspec": {
      "name": "python3",
      "display_name": "Python 3"
    },
    "language_info": {
      "name": "python"
    }
  },
  "cells": [
    {
      "cell_type": "markdown",
      "metadata": {
        "id": "view-in-github",
        "colab_type": "text"
      },
      "source": [
        "<a href=\"https://colab.research.google.com/github/OluwatodimuAdegoke/ComputerVisionCourse/blob/main/Car_Price_Prediction.ipynb\" target=\"_parent\"><img src=\"https://colab.research.google.com/assets/colab-badge.svg\" alt=\"Open In Colab\"/></a>"
      ]
    },
    {
      "cell_type": "code",
      "execution_count": 21,
      "metadata": {
        "id": "omt8_9vo2nHe"
      },
      "outputs": [],
      "source": [
        "import tensorflow as tf # Models\n",
        "import pandas as pd  # Reading and processing data\n",
        "import seaborn as sns # Visualization\n",
        "from tensorflow.keras.layers import Normalization, Dense, InputLayer\n",
        "from tensorflow.keras.losses import MeanSquaredError, Huber, MeanAbsoluteError"
      ]
    },
    {
      "cell_type": "markdown",
      "source": [
        "Data Preparation"
      ],
      "metadata": {
        "id": "60tPELDbXYiQ"
      }
    },
    {
      "cell_type": "code",
      "source": [
        "# Read the data\n",
        "data = pd.read_csv(\"train.csv\",sep=',')\n",
        "data.shape\n",
        "# Plots the graphs of each variable against the other\n",
        "# sns.pairplot(data[['years','km','rating','condition','economy','top speed','hp', 'torque','current price']])"
      ],
      "metadata": {
        "id": "4a_7fAvdUvzw",
        "colab": {
          "base_uri": "https://localhost:8080/"
        },
        "outputId": "1d2fd4c1-e161-4b9a-a7d1-32e1cc0652a2"
      },
      "execution_count": 4,
      "outputs": [
        {
          "output_type": "execute_result",
          "data": {
            "text/plain": [
              "(1000, 12)"
            ]
          },
          "metadata": {},
          "execution_count": 4
        }
      ]
    },
    {
      "cell_type": "code",
      "source": [
        "tensor_data = tf.constant(data)\n",
        "# Cast to float32\n",
        "tensor_data = tf.cast(tensor_data,tf.float32)\n",
        "# Shuffle the data to avoid bias\n",
        "tensor_data = tf.random.shuffle(tensor_data)\n"
      ],
      "metadata": {
        "id": "67ceh6mtUDLM"
      },
      "execution_count": 5,
      "outputs": []
    },
    {
      "cell_type": "code",
      "source": [
        "x = tensor_data[:,3:-1]\n",
        "print(x.shape)\n",
        "y = tensor_data[:,-1]\n",
        "y = tf.expand_dims(y, axis = -1)\n",
        "print(y.shape)"
      ],
      "metadata": {
        "colab": {
          "base_uri": "https://localhost:8080/"
        },
        "id": "v9zZhFFNWgL0",
        "outputId": "750ae72d-0cf6-4813-bf9c-176505f07f55"
      },
      "execution_count": 6,
      "outputs": [
        {
          "output_type": "stream",
          "name": "stdout",
          "text": [
            "(1000, 8)\n",
            "(1000, 1)\n"
          ]
        }
      ]
    },
    {
      "cell_type": "code",
      "source": [
        "# Normalize the input\n",
        "normalizer = Normalization()\n",
        "# Gets the mean and std itself\n",
        "normalizer.adapt(x)\n",
        "normalizer(x)"
      ],
      "metadata": {
        "colab": {
          "base_uri": "https://localhost:8080/"
        },
        "id": "4Pwg3wqbXoFU",
        "outputId": "95250626-6828-4e46-975a-af191db2a2c6"
      },
      "execution_count": 7,
      "outputs": [
        {
          "output_type": "execute_result",
          "data": {
            "text/plain": [
              "<tf.Tensor: shape=(1000, 8), dtype=float32, numpy=\n",
              "array([[ 1.4194919 , -1.3704551 ,  0.00855871, ...,  0.83548087,\n",
              "         0.46102104, -0.21013637],\n",
              "       [-0.32650152,  1.3298233 ,  0.00855871, ..., -1.6543096 ,\n",
              "        -1.5870923 ,  0.12243389],\n",
              "       [ 1.4194919 ,  0.8236434 , -0.7046624 , ..., -1.0837327 ,\n",
              "        -0.758094  ,  0.7400644 ],\n",
              "       ...,\n",
              "       [-1.4904971 , -0.3616304 , -1.4178835 , ...,  1.0429634 ,\n",
              "        -0.1729188 ,  0.5025142 ],\n",
              "       [ 0.2554963 , -1.623442  , -1.4178835 , ...,  0.9392221 ,\n",
              "        -0.1241542 , -1.3978873 ],\n",
              "       [ 0.8374941 ,  0.5990063 ,  0.7217798 , ...,  1.7172817 ,\n",
              "         1.5338423 , -1.3978873 ]], dtype=float32)>"
            ]
          },
          "metadata": {},
          "execution_count": 7
        }
      ]
    },
    {
      "cell_type": "code",
      "source": [
        "# Create a model with keras\n",
        "model = tf.keras.Sequential([\n",
        "    InputLayer(input_shape=(8,)),\n",
        "    normalizer,\n",
        "    Dense(1)])\n",
        "\n",
        "model.summary()\n"
      ],
      "metadata": {
        "colab": {
          "base_uri": "https://localhost:8080/"
        },
        "id": "K3ohGwtUY-sd",
        "outputId": "a4186ff6-0a9e-4d8a-e0f7-af55d4b48d79"
      },
      "execution_count": 18,
      "outputs": [
        {
          "output_type": "stream",
          "name": "stdout",
          "text": [
            "Model: \"sequential_4\"\n",
            "_________________________________________________________________\n",
            " Layer (type)                Output Shape              Param #   \n",
            "=================================================================\n",
            " normalization (Normalizati  multiple                  17        \n",
            " on)                                                             \n",
            "                                                                 \n",
            " dense_4 (Dense)             (None, 1)                 9         \n",
            "                                                                 \n",
            "=================================================================\n",
            "Total params: 26 (108.00 Byte)\n",
            "Trainable params: 9 (36.00 Byte)\n",
            "Non-trainable params: 17 (72.00 Byte)\n",
            "_________________________________________________________________\n"
          ]
        }
      ]
    },
    {
      "cell_type": "code",
      "source": [
        "tf.keras.utils.plot_model(model,to_file=\"model.png\",show_shapes=True)"
      ],
      "metadata": {
        "id": "u_ON_u5LbdD7",
        "colab": {
          "base_uri": "https://localhost:8080/",
          "height": 312
        },
        "outputId": "4f0799cc-5769-4f3e-a048-03450daaf33e"
      },
      "execution_count": 17,
      "outputs": [
        {
          "output_type": "execute_result",
          "data": {
            "image/png": "[encoded data removed]",
            "text/plain": [
              "<IPython.core.display.Image object>"
            ]
          },
          "metadata": {},
          "execution_count": 17
        }
      ]
    },
    {
      "cell_type": "code",
      "source": [
        "# Uses the mean square error. Can also use the mean absolute error\n",
        "# Use mean absolute error when there is a outlier that'll affect the data\n",
        "# Can also use Huber loss\n",
        "model.compile(loss=MeanAbsoluteError())"
      ],
      "metadata": {
        "id": "keJWE6IhDW-D"
      },
      "execution_count": 24,
      "outputs": []
    },
    {
      "cell_type": "code",
      "source": [],
      "metadata": {
        "id": "WMBAjVJ8Fn8r"
      },
      "execution_count": null,
      "outputs": []
    }
  ]
}