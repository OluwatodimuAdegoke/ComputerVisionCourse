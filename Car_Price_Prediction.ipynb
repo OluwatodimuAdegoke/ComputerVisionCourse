{
  "nbformat": 4,
  "nbformat_minor": 0,
  "metadata": {
    "colab": {
      "provenance": [],
      "authorship_tag": "ABX9TyOCD5YvYnWNrEDqFX1IVUi+",
      "include_colab_link": true
    },
    "kernelspec": {
      "name": "python3",
      "display_name": "Python 3"
    },
    "language_info": {
      "name": "python"
    }
  },
  "cells": [
    {
      "cell_type": "markdown",
      "metadata": {
        "id": "view-in-github",
        "colab_type": "text"
      },
      "source": [
        "<a href=\"https://colab.research.google.com/github/OluwatodimuAdegoke/ComputerVisionCourse/blob/main/Car_Price_Prediction.ipynb\" target=\"_parent\"><img src=\"https://colab.research.google.com/assets/colab-badge.svg\" alt=\"Open In Colab\"/></a>"
      ]
    },
    {
      "cell_type": "code",
      "execution_count": 1,
      "metadata": {
        "id": "omt8_9vo2nHe"
      },
      "outputs": [],
      "source": [
        "import tensorflow as tf # Models\n",
        "import pandas as pd  # Reading and processing data\n",
        "import seaborn as sns # Visualization\n",
        "from tensorflow.keras.layers import Normalization, Dense, InputLayer\n",
        "from tensorflow.keras.losses import MeanSquaredError, Huber, MeanAbsoluteError\n",
        "from tensorflow.keras.optimizers import Adam\n",
        "import matplotlib.pyplot as plt\n",
        "from tensorflow.keras.metrics import RootMeanSquaredError"
      ]
    },
    {
      "cell_type": "markdown",
      "source": [
        "Data Preparation"
      ],
      "metadata": {
        "id": "60tPELDbXYiQ"
      }
    },
    {
      "cell_type": "code",
      "source": [
        "# Read the data\n",
        "data = pd.read_csv(\"train.csv\",sep=',')\n",
        "data.shape\n",
        "# Plots the graphs of each variable against the other\n",
        "# sns.pairplot(data[['years','km','rating','condition','economy','top speed','hp', 'torque','current price']])"
      ],
      "metadata": {
        "id": "4a_7fAvdUvzw",
        "colab": {
          "base_uri": "https://localhost:8080/"
        },
        "outputId": "501a8231-8ba5-4ece-caeb-1bd7c2036e39"
      },
      "execution_count": 2,
      "outputs": [
        {
          "output_type": "execute_result",
          "data": {
            "text/plain": [
              "(1000, 12)"
            ]
          },
          "metadata": {},
          "execution_count": 2
        }
      ]
    },
    {
      "cell_type": "code",
      "source": [
        "tensor_data = tf.constant(data)\n",
        "# Cast to float32\n",
        "tensor_data = tf.cast(tensor_data,tf.float32)\n",
        "# Shuffle the data to avoid bias\n",
        "tensor_data = tf.random.shuffle(tensor_data)\n"
      ],
      "metadata": {
        "id": "67ceh6mtUDLM"
      },
      "execution_count": 3,
      "outputs": []
    },
    {
      "cell_type": "code",
      "source": [
        "x = tensor_data[:,3:-1]\n",
        "print(x.shape)\n",
        "y = tensor_data[:,-1]\n",
        "y = tf.expand_dims(y, axis = -1)\n",
        "print(y.shape)"
      ],
      "metadata": {
        "colab": {
          "base_uri": "https://localhost:8080/"
        },
        "id": "v9zZhFFNWgL0",
        "outputId": "6b4ac612-ee0c-47ac-fc41-ab66a41ace39"
      },
      "execution_count": 4,
      "outputs": [
        {
          "output_type": "stream",
          "name": "stdout",
          "text": [
            "(1000, 8)\n",
            "(1000, 1)\n"
          ]
        }
      ]
    },
    {
      "cell_type": "code",
      "source": [
        "#Divide the dataset into training, validation and testing data\n",
        "TRAIN_RATIO = 0.8\n",
        "VAL_RATIO = 0.1\n",
        "TEST_RATIO = 0.1\n",
        "DATASET_SIZE = len(x)\n"
      ],
      "metadata": {
        "id": "je7AVPz5Vimu"
      },
      "execution_count": 15,
      "outputs": []
    },
    {
      "cell_type": "code",
      "source": [
        "x_train = x[:int(DATASET_SIZE*TRAIN_RATIO)]\n",
        "y_train = y[:int(DATASET_SIZE*TRAIN_RATIO)]\n",
        "print(x_train.shape)"
      ],
      "metadata": {
        "colab": {
          "base_uri": "https://localhost:8080/"
        },
        "id": "AxEcAqIcVx_w",
        "outputId": "29d3b736-2990-453c-fbb8-6a01bf208800"
      },
      "execution_count": 16,
      "outputs": [
        {
          "output_type": "stream",
          "name": "stdout",
          "text": [
            "(800, 8)\n"
          ]
        }
      ]
    },
    {
      "cell_type": "code",
      "source": [
        "x_val = x[int(DATASET_SIZE*TRAIN_RATIO):int(DATASET_SIZE*(TRAIN_RATIO+VAL_RATIO))]\n",
        "y_val = y[int(DATASET_SIZE*TRAIN_RATIO):int(DATASET_SIZE*(TRAIN_RATIO+VAL_RATIO))]\n",
        "print(x_val.shape)\n",
        "\n",
        "x_test = x[int(DATASET_SIZE*(TRAIN_RATIO+VAL_RATIO)):]\n",
        "y_test = y[int(DATASET_SIZE*(TRAIN_RATIO+VAL_RATIO)):]\n",
        "print(x_test.shape)"
      ],
      "metadata": {
        "colab": {
          "base_uri": "https://localhost:8080/"
        },
        "id": "DlciIg5tV9aM",
        "outputId": "9fb9de7e-fe53-4968-d2b0-bc54116a9988"
      },
      "execution_count": 17,
      "outputs": [
        {
          "output_type": "stream",
          "name": "stdout",
          "text": [
            "(100, 8)\n",
            "(100, 8)\n"
          ]
        }
      ]
    },
    {
      "cell_type": "code",
      "source": [
        "# Normalize the input\n",
        "normalizer = Normalization()\n",
        "# Gets the mean and std itself\n",
        "normalizer.adapt(x_train)\n",
        "normalizer(x_train)"
      ],
      "metadata": {
        "colab": {
          "base_uri": "https://localhost:8080/"
        },
        "id": "4Pwg3wqbXoFU",
        "outputId": "1ceb7b45-8f12-4d5a-9068-7080bf234c67"
      },
      "execution_count": 18,
      "outputs": [
        {
          "output_type": "execute_result",
          "data": {
            "text/plain": [
              "<tf.Tensor: shape=(800, 8), dtype=float32, numpy=\n",
              "array([[-0.3451495 , -1.1255285 , -1.4195638 , ..., -0.10946778,\n",
              "         1.6782013 ,  0.81605536],\n",
              "       [-0.9326389 , -0.52780145,  1.4231169 , ..., -1.0466572 ,\n",
              "         0.4715137 ,  0.48526224],\n",
              "       [-1.5201283 ,  0.47419474,  1.4231169 , ...,  0.46325907,\n",
              "         0.5680487 , -1.6412652 ],\n",
              "       ...,\n",
              "       [-1.5201283 , -1.4029137 ,  0.00177655, ..., -0.78632677,\n",
              "        -1.024779  , -1.3577281 ],\n",
              "       [ 0.24233986, -0.22200675, -1.4195638 , ...,  1.4004484 ,\n",
              "        -0.15596385, -0.41260487],\n",
              "       [ 0.24233986, -1.2817801 , -1.4195638 , ...,  0.3591269 ,\n",
              "        -0.49383637,  1.00508   ]], dtype=float32)>"
            ]
          },
          "metadata": {},
          "execution_count": 18
        }
      ]
    },
    {
      "cell_type": "code",
      "source": [
        "# Create a model with keras\n",
        "model = tf.keras.Sequential([\n",
        "    InputLayer(input_shape=(8,)),\n",
        "    normalizer,\n",
        "    Dense(1)])\n",
        "\n",
        "model.summary()\n"
      ],
      "metadata": {
        "colab": {
          "base_uri": "https://localhost:8080/"
        },
        "id": "K3ohGwtUY-sd",
        "outputId": "6829d6ab-bc6e-40da-b21d-ca36d6604de4"
      },
      "execution_count": 19,
      "outputs": [
        {
          "output_type": "stream",
          "name": "stdout",
          "text": [
            "Model: \"sequential_1\"\n",
            "_________________________________________________________________\n",
            " Layer (type)                Output Shape              Param #   \n",
            "=================================================================\n",
            " normalization_1 (Normaliza  (None, 8)                 17        \n",
            " tion)                                                           \n",
            "                                                                 \n",
            " dense_1 (Dense)             (None, 1)                 9         \n",
            "                                                                 \n",
            "=================================================================\n",
            "Total params: 26 (108.00 Byte)\n",
            "Trainable params: 9 (36.00 Byte)\n",
            "Non-trainable params: 17 (72.00 Byte)\n",
            "_________________________________________________________________\n"
          ]
        }
      ]
    },
    {
      "cell_type": "code",
      "source": [
        "tf.keras.utils.plot_model(model,to_file=\"model.png\",show_shapes=True)"
      ],
      "metadata": {
        "id": "u_ON_u5LbdD7",
        "colab": {
          "base_uri": "https://localhost:8080/",
          "height": 312
        },
        "outputId": "03924fdc-322e-400c-87b9-e565ba0b40b6"
      },
      "execution_count": 20,
      "outputs": [
        {
          "output_type": "execute_result",
          "data": {
            "image/png": "[encoded data removed]",
            "text/plain": [
              "<IPython.core.display.Image object>"
            ]
          },
          "metadata": {},
          "execution_count": 20
        }
      ]
    },
    {
      "cell_type": "code",
      "source": [
        "# Uses the mean square error. Can also use the mean absolute error\n",
        "# Use mean absolute error when there is a outlier that'll affect the data\n",
        "# Can also use Huber loss\n",
        "model.compile(optimizer=Adam(learning_rate = 1),\n",
        "              loss=MeanAbsoluteError(),\n",
        "              metrics = RootMeanSquaredError())"
      ],
      "metadata": {
        "id": "keJWE6IhDW-D"
      },
      "execution_count": 21,
      "outputs": []
    },
    {
      "cell_type": "code",
      "source": [
        "# Training the model\n",
        "#\n",
        "history = model.fit(x_train,\n",
        "                    y_train,\n",
        "                    validation_data=(x_val,y_val),\n",
        "                    epochs=100,\n",
        "                    verbose=1)"
      ],
      "metadata": {
        "colab": {
          "base_uri": "https://localhost:8080/"
        },
        "id": "WMBAjVJ8Fn8r",
        "outputId": "6d0b25ae-dc91-444a-e6cc-1f9068e91ef0"
      },
      "execution_count": 22,
      "outputs": [
        {
          "output_type": "stream",
          "name": "stdout",
          "text": [
            "Epoch 1/100\n",
            "25/25 [==============================] - 1s 14ms/step - loss: 306550.0000 - root_mean_squared_error: 331573.1875 - val_loss: 318911.1875 - val_root_mean_squared_error: 343270.6562\n",
            "Epoch 2/100\n",
            "25/25 [==============================] - 0s 4ms/step - loss: 306524.7500 - root_mean_squared_error: 331550.0938 - val_loss: 318887.4062 - val_root_mean_squared_error: 343248.7812\n",
            "Epoch 3/100\n",
            "25/25 [==============================] - 0s 4ms/step - loss: 306499.6250 - root_mean_squared_error: 331526.5625 - val_loss: 318861.3125 - val_root_mean_squared_error: 343224.2500\n",
            "Epoch 4/100\n",
            "25/25 [==============================] - 0s 5ms/step - loss: 306474.7500 - root_mean_squared_error: 331503.4062 - val_loss: 318836.1875 - val_root_mean_squared_error: 343201.3125\n",
            "Epoch 5/100\n",
            "25/25 [==============================] - 0s 5ms/step - loss: 306449.5938 - root_mean_squared_error: 331480.1875 - val_loss: 318811.9062 - val_root_mean_squared_error: 343178.9375\n",
            "Epoch 6/100\n",
            "25/25 [==============================] - 0s 4ms/step - loss: 306424.6562 - root_mean_squared_error: 331457.5938 - val_loss: 318787.2812 - val_root_mean_squared_error: 343156.3750\n",
            "Epoch 7/100\n",
            "25/25 [==============================] - 0s 5ms/step - loss: 306399.5938 - root_mean_squared_error: 331434.6562 - val_loss: 318761.9062 - val_root_mean_squared_error: 343132.5625\n",
            "Epoch 8/100\n",
            "25/25 [==============================] - 0s 5ms/step - loss: 306374.7188 - root_mean_squared_error: 331411.1562 - val_loss: 318737.0938 - val_root_mean_squared_error: 343108.9375\n",
            "Epoch 9/100\n",
            "25/25 [==============================] - 0s 5ms/step - loss: 306349.8438 - root_mean_squared_error: 331388.3750 - val_loss: 318711.7188 - val_root_mean_squared_error: 343086.0938\n",
            "Epoch 10/100\n",
            "25/25 [==============================] - 0s 5ms/step - loss: 306324.5312 - root_mean_squared_error: 331365.0938 - val_loss: 318686.8125 - val_root_mean_squared_error: 343062.5938\n",
            "Epoch 11/100\n",
            "25/25 [==============================] - 0s 5ms/step - loss: 306299.4688 - root_mean_squared_error: 331341.8750 - val_loss: 318662.0625 - val_root_mean_squared_error: 343039.6562\n",
            "Epoch 12/100\n",
            "25/25 [==============================] - 0s 5ms/step - loss: 306274.6875 - root_mean_squared_error: 331319.4375 - val_loss: 318637.1875 - val_root_mean_squared_error: 343017.7188\n",
            "Epoch 13/100\n",
            "25/25 [==============================] - 0s 3ms/step - loss: 306249.7500 - root_mean_squared_error: 331296.2812 - val_loss: 318611.8125 - val_root_mean_squared_error: 342993.0625\n",
            "Epoch 14/100\n",
            "25/25 [==============================] - 0s 3ms/step - loss: 306224.6250 - root_mean_squared_error: 331272.4688 - val_loss: 318586.6250 - val_root_mean_squared_error: 342969.6875\n",
            "Epoch 15/100\n",
            "25/25 [==============================] - 0s 3ms/step - loss: 306199.6250 - root_mean_squared_error: 331249.1250 - val_loss: 318560.8750 - val_root_mean_squared_error: 342944.8750\n",
            "Epoch 16/100\n",
            "25/25 [==============================] - 0s 4ms/step - loss: 306174.6875 - root_mean_squared_error: 331226.6250 - val_loss: 318537.5938 - val_root_mean_squared_error: 342925.0625\n",
            "Epoch 17/100\n",
            "25/25 [==============================] - 0s 4ms/step - loss: 306149.6250 - root_mean_squared_error: 331203.6250 - val_loss: 318512.5000 - val_root_mean_squared_error: 342900.4688\n",
            "Epoch 18/100\n",
            "25/25 [==============================] - 0s 3ms/step - loss: 306124.5625 - root_mean_squared_error: 331180.5000 - val_loss: 318487.4688 - val_root_mean_squared_error: 342878.1250\n",
            "Epoch 19/100\n",
            "25/25 [==============================] - 0s 4ms/step - loss: 306099.5000 - root_mean_squared_error: 331157.2188 - val_loss: 318461.9062 - val_root_mean_squared_error: 342853.6562\n",
            "Epoch 20/100\n",
            "25/25 [==============================] - 0s 4ms/step - loss: 306074.7500 - root_mean_squared_error: 331133.8438 - val_loss: 318436.5938 - val_root_mean_squared_error: 342830.2500\n",
            "Epoch 21/100\n",
            "25/25 [==============================] - 0s 3ms/step - loss: 306049.5938 - root_mean_squared_error: 331111.0000 - val_loss: 318411.5312 - val_root_mean_squared_error: 342807.1250\n",
            "Epoch 22/100\n",
            "25/25 [==============================] - 0s 4ms/step - loss: 306024.6875 - root_mean_squared_error: 331087.9375 - val_loss: 318386.3750 - val_root_mean_squared_error: 342783.5312\n",
            "Epoch 23/100\n",
            "25/25 [==============================] - 0s 3ms/step - loss: 305999.6250 - root_mean_squared_error: 331064.8438 - val_loss: 318362.5938 - val_root_mean_squared_error: 342762.0625\n",
            "Epoch 24/100\n",
            "25/25 [==============================] - 0s 4ms/step - loss: 305974.6875 - root_mean_squared_error: 331041.9062 - val_loss: 318337.0312 - val_root_mean_squared_error: 342737.9062\n",
            "Epoch 25/100\n",
            "25/25 [==============================] - 0s 3ms/step - loss: 305949.5312 - root_mean_squared_error: 331018.1250 - val_loss: 318312.0312 - val_root_mean_squared_error: 342714.3438\n",
            "Epoch 26/100\n",
            "25/25 [==============================] - 0s 3ms/step - loss: 305924.5938 - root_mean_squared_error: 330995.1875 - val_loss: 318286.9688 - val_root_mean_squared_error: 342691.1250\n",
            "Epoch 27/100\n",
            "25/25 [==============================] - 0s 4ms/step - loss: 305899.6250 - root_mean_squared_error: 330971.8125 - val_loss: 318261.4688 - val_root_mean_squared_error: 342667.0312\n",
            "Epoch 28/100\n",
            "25/25 [==============================] - 0s 3ms/step - loss: 305874.5312 - root_mean_squared_error: 330948.4375 - val_loss: 318236.9062 - val_root_mean_squared_error: 342644.5312\n",
            "Epoch 29/100\n",
            "25/25 [==============================] - 0s 3ms/step - loss: 305849.7500 - root_mean_squared_error: 330926.3750 - val_loss: 318212.0312 - val_root_mean_squared_error: 342622.0000\n",
            "Epoch 30/100\n",
            "25/25 [==============================] - 0s 4ms/step - loss: 305824.5625 - root_mean_squared_error: 330902.8125 - val_loss: 318186.5625 - val_root_mean_squared_error: 342597.6250\n",
            "Epoch 31/100\n",
            "25/25 [==============================] - 0s 3ms/step - loss: 305799.5938 - root_mean_squared_error: 330879.8438 - val_loss: 318161.8438 - val_root_mean_squared_error: 342575.4688\n",
            "Epoch 32/100\n",
            "25/25 [==============================] - 0s 3ms/step - loss: 305774.5312 - root_mean_squared_error: 330856.6875 - val_loss: 318137.0312 - val_root_mean_squared_error: 342551.8438\n",
            "Epoch 33/100\n",
            "25/25 [==============================] - 0s 3ms/step - loss: 305749.9062 - root_mean_squared_error: 330833.5938 - val_loss: 318111.4062 - val_root_mean_squared_error: 342527.8438\n",
            "Epoch 34/100\n",
            "25/25 [==============================] - 0s 3ms/step - loss: 305724.6250 - root_mean_squared_error: 330810.1250 - val_loss: 318087.0312 - val_root_mean_squared_error: 342505.3750\n",
            "Epoch 35/100\n",
            "25/25 [==============================] - 0s 3ms/step - loss: 305699.6875 - root_mean_squared_error: 330787.8750 - val_loss: 318062.2812 - val_root_mean_squared_error: 342482.9688\n",
            "Epoch 36/100\n",
            "25/25 [==============================] - 0s 3ms/step - loss: 305674.6250 - root_mean_squared_error: 330764.4688 - val_loss: 318036.8750 - val_root_mean_squared_error: 342459.0625\n",
            "Epoch 37/100\n",
            "25/25 [==============================] - 0s 4ms/step - loss: 305649.6250 - root_mean_squared_error: 330741.5938 - val_loss: 318012.7188 - val_root_mean_squared_error: 342437.2500\n",
            "Epoch 38/100\n",
            "25/25 [==============================] - 0s 3ms/step - loss: 305624.6250 - root_mean_squared_error: 330717.8438 - val_loss: 317986.8750 - val_root_mean_squared_error: 342411.9375\n",
            "Epoch 39/100\n",
            "25/25 [==============================] - 0s 3ms/step - loss: 305599.7500 - root_mean_squared_error: 330695.1250 - val_loss: 317961.6562 - val_root_mean_squared_error: 342389.1250\n",
            "Epoch 40/100\n",
            "25/25 [==============================] - 0s 3ms/step - loss: 305574.5938 - root_mean_squared_error: 330672.0625 - val_loss: 317937.4062 - val_root_mean_squared_error: 342367.2812\n",
            "Epoch 41/100\n",
            "25/25 [==============================] - 0s 3ms/step - loss: 305549.5938 - root_mean_squared_error: 330649.1250 - val_loss: 317912.3438 - val_root_mean_squared_error: 342343.7500\n",
            "Epoch 42/100\n",
            "25/25 [==============================] - 0s 3ms/step - loss: 305524.5000 - root_mean_squared_error: 330625.7812 - val_loss: 317886.6562 - val_root_mean_squared_error: 342319.6875\n",
            "Epoch 43/100\n",
            "25/25 [==============================] - 0s 3ms/step - loss: 305499.7500 - root_mean_squared_error: 330603.1875 - val_loss: 317862.5625 - val_root_mean_squared_error: 342298.2188\n",
            "Epoch 44/100\n",
            "25/25 [==============================] - 0s 3ms/step - loss: 305474.8438 - root_mean_squared_error: 330579.7188 - val_loss: 317836.4375 - val_root_mean_squared_error: 342272.3750\n",
            "Epoch 45/100\n",
            "25/25 [==============================] - 0s 3ms/step - loss: 305449.6875 - root_mean_squared_error: 330556.5000 - val_loss: 317811.6562 - val_root_mean_squared_error: 342249.3750\n",
            "Epoch 46/100\n",
            "25/25 [==============================] - 0s 3ms/step - loss: 305424.5938 - root_mean_squared_error: 330533.3125 - val_loss: 317786.5312 - val_root_mean_squared_error: 342226.9375\n",
            "Epoch 47/100\n",
            "25/25 [==============================] - 0s 3ms/step - loss: 305399.6562 - root_mean_squared_error: 330510.3750 - val_loss: 317762.2500 - val_root_mean_squared_error: 342204.0000\n",
            "Epoch 48/100\n",
            "25/25 [==============================] - 0s 3ms/step - loss: 305374.7812 - root_mean_squared_error: 330486.5938 - val_loss: 317736.7812 - val_root_mean_squared_error: 342179.4688\n",
            "Epoch 49/100\n",
            "25/25 [==============================] - 0s 3ms/step - loss: 305349.5625 - root_mean_squared_error: 330463.7500 - val_loss: 317712.5625 - val_root_mean_squared_error: 342158.4375\n",
            "Epoch 50/100\n",
            "25/25 [==============================] - 0s 3ms/step - loss: 305324.5312 - root_mean_squared_error: 330440.9375 - val_loss: 317687.3438 - val_root_mean_squared_error: 342134.4688\n",
            "Epoch 51/100\n",
            "25/25 [==============================] - 0s 4ms/step - loss: 305299.8438 - root_mean_squared_error: 330417.8125 - val_loss: 317662.7188 - val_root_mean_squared_error: 342110.9688\n",
            "Epoch 52/100\n",
            "25/25 [==============================] - 0s 3ms/step - loss: 305274.6562 - root_mean_squared_error: 330394.6562 - val_loss: 317637.3750 - val_root_mean_squared_error: 342088.5000\n",
            "Epoch 53/100\n",
            "25/25 [==============================] - 0s 4ms/step - loss: 305249.7188 - root_mean_squared_error: 330371.7188 - val_loss: 317611.6875 - val_root_mean_squared_error: 342064.2812\n",
            "Epoch 54/100\n",
            "25/25 [==============================] - 0s 3ms/step - loss: 305224.6875 - root_mean_squared_error: 330348.3438 - val_loss: 317587.0312 - val_root_mean_squared_error: 342040.9688\n",
            "Epoch 55/100\n",
            "25/25 [==============================] - 0s 3ms/step - loss: 305199.5938 - root_mean_squared_error: 330325.2500 - val_loss: 317561.8750 - val_root_mean_squared_error: 342017.8750\n",
            "Epoch 56/100\n",
            "25/25 [==============================] - 0s 3ms/step - loss: 305174.6250 - root_mean_squared_error: 330302.8125 - val_loss: 317537.4688 - val_root_mean_squared_error: 341995.5938\n",
            "Epoch 57/100\n",
            "25/25 [==============================] - 0s 3ms/step - loss: 305149.5312 - root_mean_squared_error: 330279.0000 - val_loss: 317512.0938 - val_root_mean_squared_error: 341971.5938\n",
            "Epoch 58/100\n",
            "25/25 [==============================] - 0s 3ms/step - loss: 305124.6875 - root_mean_squared_error: 330256.3125 - val_loss: 317487.3750 - val_root_mean_squared_error: 341948.9688\n",
            "Epoch 59/100\n",
            "25/25 [==============================] - 0s 3ms/step - loss: 305099.5938 - root_mean_squared_error: 330233.0312 - val_loss: 317462.1875 - val_root_mean_squared_error: 341925.3438\n",
            "Epoch 60/100\n",
            "25/25 [==============================] - 0s 3ms/step - loss: 305074.6250 - root_mean_squared_error: 330209.5938 - val_loss: 317436.9062 - val_root_mean_squared_error: 341901.1562\n",
            "Epoch 61/100\n",
            "25/25 [==============================] - 0s 3ms/step - loss: 305049.6875 - root_mean_squared_error: 330186.5000 - val_loss: 317411.5312 - val_root_mean_squared_error: 341878.4375\n",
            "Epoch 62/100\n",
            "25/25 [==============================] - 0s 3ms/step - loss: 305024.9062 - root_mean_squared_error: 330164.6250 - val_loss: 317387.1562 - val_root_mean_squared_error: 341856.7500\n",
            "Epoch 63/100\n",
            "25/25 [==============================] - 0s 4ms/step - loss: 304999.6250 - root_mean_squared_error: 330140.5938 - val_loss: 317361.4062 - val_root_mean_squared_error: 341831.2188\n",
            "Epoch 64/100\n",
            "25/25 [==============================] - 0s 3ms/step - loss: 304974.6250 - root_mean_squared_error: 330117.2812 - val_loss: 317336.7188 - val_root_mean_squared_error: 341808.5938\n",
            "Epoch 65/100\n",
            "25/25 [==============================] - 0s 3ms/step - loss: 304949.5312 - root_mean_squared_error: 330094.2500 - val_loss: 317311.9062 - val_root_mean_squared_error: 341785.9375\n",
            "Epoch 66/100\n",
            "25/25 [==============================] - 0s 3ms/step - loss: 304924.6562 - root_mean_squared_error: 330070.8125 - val_loss: 317287.3750 - val_root_mean_squared_error: 341762.4062\n",
            "Epoch 67/100\n",
            "25/25 [==============================] - 0s 3ms/step - loss: 304899.6875 - root_mean_squared_error: 330047.9062 - val_loss: 317262.3125 - val_root_mean_squared_error: 341739.3438\n",
            "Epoch 68/100\n",
            "25/25 [==============================] - 0s 3ms/step - loss: 304874.5938 - root_mean_squared_error: 330025.0938 - val_loss: 317237.6250 - val_root_mean_squared_error: 341717.1875\n",
            "Epoch 69/100\n",
            "25/25 [==============================] - 0s 3ms/step - loss: 304849.6250 - root_mean_squared_error: 330002.0000 - val_loss: 317211.9375 - val_root_mean_squared_error: 341692.7188\n",
            "Epoch 70/100\n",
            "25/25 [==============================] - 0s 3ms/step - loss: 304824.7500 - root_mean_squared_error: 329978.9688 - val_loss: 317187.1875 - val_root_mean_squared_error: 341670.2500\n",
            "Epoch 71/100\n",
            "25/25 [==============================] - 0s 3ms/step - loss: 304799.5312 - root_mean_squared_error: 329955.8125 - val_loss: 317161.7812 - val_root_mean_squared_error: 341646.5312\n",
            "Epoch 72/100\n",
            "25/25 [==============================] - 0s 3ms/step - loss: 304774.5312 - root_mean_squared_error: 329932.7188 - val_loss: 317136.3750 - val_root_mean_squared_error: 341622.9375\n",
            "Epoch 73/100\n",
            "25/25 [==============================] - 0s 4ms/step - loss: 304749.8125 - root_mean_squared_error: 329909.9375 - val_loss: 317111.4688 - val_root_mean_squared_error: 341599.8438\n",
            "Epoch 74/100\n",
            "25/25 [==============================] - 0s 3ms/step - loss: 304724.5938 - root_mean_squared_error: 329886.5938 - val_loss: 317086.6875 - val_root_mean_squared_error: 341576.2188\n",
            "Epoch 75/100\n",
            "25/25 [==============================] - 0s 3ms/step - loss: 304699.6250 - root_mean_squared_error: 329863.4062 - val_loss: 317061.8125 - val_root_mean_squared_error: 341553.7188\n",
            "Epoch 76/100\n",
            "25/25 [==============================] - 0s 3ms/step - loss: 304674.7500 - root_mean_squared_error: 329840.6562 - val_loss: 317037.5312 - val_root_mean_squared_error: 341531.4062\n",
            "Epoch 77/100\n",
            "25/25 [==============================] - 0s 3ms/step - loss: 304649.5625 - root_mean_squared_error: 329817.6562 - val_loss: 317012.0312 - val_root_mean_squared_error: 341507.9062\n",
            "Epoch 78/100\n",
            "25/25 [==============================] - 0s 3ms/step - loss: 304624.5625 - root_mean_squared_error: 329794.1562 - val_loss: 316987.1250 - val_root_mean_squared_error: 341483.9688\n",
            "Epoch 79/100\n",
            "25/25 [==============================] - 0s 4ms/step - loss: 304599.6875 - root_mean_squared_error: 329770.7500 - val_loss: 316962.0000 - val_root_mean_squared_error: 341460.4062\n",
            "Epoch 80/100\n",
            "25/25 [==============================] - 0s 3ms/step - loss: 304574.5000 - root_mean_squared_error: 329747.6875 - val_loss: 316936.9375 - val_root_mean_squared_error: 341437.7188\n",
            "Epoch 81/100\n",
            "25/25 [==============================] - 0s 3ms/step - loss: 304549.5312 - root_mean_squared_error: 329724.5938 - val_loss: 316911.5938 - val_root_mean_squared_error: 341413.7500\n",
            "Epoch 82/100\n",
            "25/25 [==============================] - 0s 3ms/step - loss: 304524.5938 - root_mean_squared_error: 329701.2812 - val_loss: 316886.8438 - val_root_mean_squared_error: 341390.7500\n",
            "Epoch 83/100\n",
            "25/25 [==============================] - 0s 3ms/step - loss: 304499.5938 - root_mean_squared_error: 329678.5312 - val_loss: 316861.6562 - val_root_mean_squared_error: 341368.0312\n",
            "Epoch 84/100\n",
            "25/25 [==============================] - 0s 4ms/step - loss: 304474.6250 - root_mean_squared_error: 329655.9375 - val_loss: 316837.6250 - val_root_mean_squared_error: 341345.8750\n",
            "Epoch 85/100\n",
            "25/25 [==============================] - 0s 3ms/step - loss: 304449.7812 - root_mean_squared_error: 329632.5625 - val_loss: 316811.2500 - val_root_mean_squared_error: 341321.0625\n",
            "Epoch 86/100\n",
            "25/25 [==============================] - 0s 4ms/step - loss: 304424.6875 - root_mean_squared_error: 329609.6875 - val_loss: 316786.2500 - val_root_mean_squared_error: 341298.5312\n",
            "Epoch 87/100\n",
            "25/25 [==============================] - 0s 3ms/step - loss: 304399.5938 - root_mean_squared_error: 329586.4688 - val_loss: 316762.6250 - val_root_mean_squared_error: 341276.2188\n",
            "Epoch 88/100\n",
            "25/25 [==============================] - 0s 3ms/step - loss: 304374.7500 - root_mean_squared_error: 329563.1875 - val_loss: 316736.0938 - val_root_mean_squared_error: 341251.0000\n",
            "Epoch 89/100\n",
            "25/25 [==============================] - 0s 4ms/step - loss: 304349.5312 - root_mean_squared_error: 329539.8125 - val_loss: 316711.7188 - val_root_mean_squared_error: 341228.7500\n",
            "Epoch 90/100\n",
            "25/25 [==============================] - 0s 3ms/step - loss: 304324.7500 - root_mean_squared_error: 329517.4375 - val_loss: 316686.2500 - val_root_mean_squared_error: 341205.3438\n",
            "Epoch 91/100\n",
            "25/25 [==============================] - 0s 4ms/step - loss: 304299.5938 - root_mean_squared_error: 329494.2812 - val_loss: 316661.9062 - val_root_mean_squared_error: 341182.5938\n",
            "Epoch 92/100\n",
            "25/25 [==============================] - 0s 3ms/step - loss: 304274.7812 - root_mean_squared_error: 329471.0000 - val_loss: 316636.8750 - val_root_mean_squared_error: 341159.5938\n",
            "Epoch 93/100\n",
            "25/25 [==============================] - 0s 4ms/step - loss: 304249.6875 - root_mean_squared_error: 329447.8125 - val_loss: 316612.1250 - val_root_mean_squared_error: 341135.9688\n",
            "Epoch 94/100\n",
            "25/25 [==============================] - 0s 3ms/step - loss: 304224.7188 - root_mean_squared_error: 329424.8438 - val_loss: 316586.8750 - val_root_mean_squared_error: 341112.7188\n",
            "Epoch 95/100\n",
            "25/25 [==============================] - 0s 3ms/step - loss: 304199.6250 - root_mean_squared_error: 329401.4375 - val_loss: 316561.6875 - val_root_mean_squared_error: 341089.4375\n",
            "Epoch 96/100\n",
            "25/25 [==============================] - 0s 3ms/step - loss: 304174.5312 - root_mean_squared_error: 329378.4375 - val_loss: 316536.6250 - val_root_mean_squared_error: 341065.9062\n",
            "Epoch 97/100\n",
            "25/25 [==============================] - 0s 3ms/step - loss: 304149.6250 - root_mean_squared_error: 329355.2812 - val_loss: 316511.8125 - val_root_mean_squared_error: 341043.1875\n",
            "Epoch 98/100\n",
            "25/25 [==============================] - 0s 3ms/step - loss: 304124.7812 - root_mean_squared_error: 329332.8438 - val_loss: 316486.8125 - val_root_mean_squared_error: 341020.2812\n",
            "Epoch 99/100\n",
            "25/25 [==============================] - 0s 3ms/step - loss: 304099.8125 - root_mean_squared_error: 329309.6875 - val_loss: 316461.7812 - val_root_mean_squared_error: 340996.8750\n",
            "Epoch 100/100\n",
            "25/25 [==============================] - 0s 4ms/step - loss: 304074.4688 - root_mean_squared_error: 329286.3438 - val_loss: 316437.1250 - val_root_mean_squared_error: 340974.0938\n"
          ]
        }
      ]
    },
    {
      "cell_type": "code",
      "source": [
        "plt.plot(history.history['loss'])\n",
        "plt.plot(history.history['val_loss'])\n",
        "plt.title('model performance')\n",
        "plt.ylabel('rmse')\n",
        "plt.xlabel('epoch')\n",
        "plt.legend(['train','val_loss'])\n",
        "plt.show"
      ],
      "metadata": {
        "colab": {
          "base_uri": "https://localhost:8080/",
          "height": 490
        },
        "id": "GiOBe-IbJg5R",
        "outputId": "44fdfd3e-0e5d-4232-bcc7-7539cb29294b"
      },
      "execution_count": 26,
      "outputs": [
        {
          "output_type": "execute_result",
          "data": {
            "text/plain": [
              "<function matplotlib.pyplot.show(close=None, block=None)>"
            ]
          },
          "metadata": {},
          "execution_count": 26
        },
        {
          "output_type": "display_data",
          "data": {
            "text/plain": [
              "<Figure size 640x480 with 1 Axes>"
            ],
            "image/png": "[encoded data removed]"
          },
          "metadata": {}
        }
      ]
    },
    {
      "cell_type": "code",
      "source": [
        "# Evaluate the model\n",
        "model.evaluate(x_test,y_test)"
      ],
      "metadata": {
        "id": "rsyWFiLCLTIe",
        "colab": {
          "base_uri": "https://localhost:8080/"
        },
        "outputId": "04ab4d9a-fffb-4f43-e971-b70ebc285b11"
      },
      "execution_count": 28,
      "outputs": [
        {
          "output_type": "stream",
          "name": "stdout",
          "text": [
            "4/4 [==============================] - 0s 3ms/step - loss: 311273.0625 - root_mean_squared_error: 334110.2500\n"
          ]
        },
        {
          "output_type": "execute_result",
          "data": {
            "text/plain": [
              "[311273.0625, 334110.25]"
            ]
          },
          "metadata": {},
          "execution_count": 28
        }
      ]
    },
    {
      "cell_type": "code",
      "source": [
        "y_pred = list(model.predict(x_test)[:,0])\n",
        "print(y_pred)\n"
      ],
      "metadata": {
        "colab": {
          "base_uri": "https://localhost:8080/"
        },
        "id": "e1Jyi2vEXoNj",
        "outputId": "c2d4d1bc-eb80-4bd7-fa23-c43f1a4e3332"
      },
      "execution_count": 60,
      "outputs": [
        {
          "output_type": "stream",
          "name": "stdout",
          "text": [
            "4/4 [==============================] - 0s 3ms/step\n",
            "[2509.3135, 2485.0579, 2493.682, 2517.051, 2498.1953, 2492.442, 2506.2424, 2489.0183, 2504.4604, 2496.829, 2500.7712, 2490.9438, 2497.0227, 2488.9827, 2507.982, 2504.357, 2510.9688, 2488.4707, 2482.833, 2491.57, 2498.2058, 2497.4238, 2500.1155, 2516.6226, 2509.4114, 2509.2427, 2498.7834, 2487.1675, 2492.0222, 2496.495, 2506.5222, 2503.0056, 2504.8342, 2509.6362, 2500.2114, 2501.7278, 2504.3801, 2497.2512, 2497.357, 2487.3481, 2507.6624, 2496.8677, 2478.5183, 2494.4597, 2498.4983, 2494.1187, 2498.449, 2483.5671, 2492.1267, 2501.7124, 2492.332, 2505.7612, 2525.4036, 2518.0312, 2496.0173, 2490.3599, 2502.4226, 2500.3057, 2501.6707, 2506.3074, 2506.329, 2505.4265, 2515.3975, 2493.6824, 2498.6274, 2512.5833, 2510.622, 2506.0557, 2508.1482, 2490.1758, 2492.9014, 2497.7551, 2500.4849, 2505.239, 2513.8708, 2486.8435, 2504.1033, 2503.981, 2506.263, 2516.3843, 2506.6824, 2483.9465, 2513.9456, 2516.8435, 2496.504, 2493.442, 2510.5427, 2506.4702, 2497.706, 2497.9275, 2491.2068, 2506.7886, 2514.9211, 2509.6243, 2507.8042, 2500.097, 2501.8079, 2511.4722, 2486.8503, 2493.5896]\n"
          ]
        }
      ]
    },
    {
      "cell_type": "code",
      "source": [
        "y_test[0]"
      ],
      "metadata": {
        "colab": {
          "base_uri": "https://localhost:8080/"
        },
        "id": "IGdxGVQpX4U9",
        "outputId": "035df89f-70e1-4ddd-959a-8f25790e0321"
      },
      "execution_count": 57,
      "outputs": [
        {
          "output_type": "execute_result",
          "data": {
            "text/plain": [
              "<tf.Tensor: shape=(1,), dtype=float32, numpy=array([298023.], dtype=float32)>"
            ]
          },
          "metadata": {},
          "execution_count": 57
        }
      ]
    },
    {
      "cell_type": "code",
      "source": [],
      "metadata": {
        "id": "7H37BS7sYbnh"
      },
      "execution_count": null,
      "outputs": []
    }
  ]
}