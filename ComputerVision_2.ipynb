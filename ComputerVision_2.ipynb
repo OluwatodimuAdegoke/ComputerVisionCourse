{
  "nbformat": 4,
  "nbformat_minor": 0,
  "metadata": {
    "colab": {
      "provenance": [],
      "authorship_tag": "ABX9TyOgL+trQ2w01+jOKPR9GB2q",
      "include_colab_link": true
    },
    "kernelspec": {
      "name": "python3",
      "display_name": "Python 3"
    },
    "language_info": {
      "name": "python"
    }
  },
  "cells": [
    {
      "cell_type": "markdown",
      "metadata": {
        "id": "view-in-github",
        "colab_type": "text"
      },
      "source": [
        "<a href=\"https://colab.research.google.com/github/OluwatodimuAdegoke/ComputerVisionCourse/blob/main/ComputerVision_2.ipynb\" target=\"_parent\"><img src=\"https://colab.research.google.com/assets/colab-badge.svg\" alt=\"Open In Colab\"/></a>"
      ]
    },
    {
      "cell_type": "code",
      "execution_count": 3,
      "metadata": {
        "id": "mqsEPq3xVksB"
      },
      "outputs": [],
      "source": [
        "import tensorflow as tf\n",
        "import numpy as np"
      ]
    },
    {
      "cell_type": "code",
      "source": [
        "A = np.random.normal(2,2,size=(4,2,3))\n",
        "# Converts to tensor\n",
        "A = tf.convert_to_tensor(A)\n",
        "print(A)\n",
        "# Expand and Squeeze a tensor\n",
        "A = (tf.expand_dims(A,axis=0))\n",
        "print(A)\n",
        "print(tf.squeeze(A,axis = 0))\n",
        "# Reshapes the tensor\n",
        "print(tf.reshape(A,(2,2,6)))"
      ],
      "metadata": {
        "id": "NUBghnsnVp1F"
      },
      "execution_count": null,
      "outputs": []
    },
    {
      "cell_type": "code",
      "source": [
        "# Concatenate tensors along an axis\n",
        "t1 = tf.constant([[1,2,3],[4,5,6]])\n",
        "t2 = tf.constant([[7,8,9],[10,11,12]])\n",
        "tf.concat([t1,t2],axis = 1)\n",
        "# Use tf.stack to add a new axis"
      ],
      "metadata": {
        "colab": {
          "base_uri": "https://localhost:8080/"
        },
        "id": "ngvaX96sVyQo",
        "outputId": "d313021e-c275-479f-d02a-8913abbd190d"
      },
      "execution_count": 5,
      "outputs": [
        {
          "output_type": "execute_result",
          "data": {
            "text/plain": [
              "<tf.Tensor: shape=(2, 6), dtype=int32, numpy=\n",
              "array([[ 1,  2,  3,  7,  8,  9],\n",
              "       [ 4,  5,  6, 10, 11, 12]], dtype=int32)>"
            ]
          },
          "metadata": {},
          "execution_count": 5
        }
      ]
    },
    {
      "cell_type": "markdown",
      "source": [],
      "metadata": {
        "id": "9F34LhHNh1I1"
      }
    },
    {
      "cell_type": "code",
      "source": [
        "#pad\n",
        "p1 = tf.constant([[1,2,3],[4,5,6]])\n",
        "p2 = tf.constant([[2,4],[3,5]])\n",
        "print(tf.pad(p1,p2,\"CONSTANT\",constant_values=0))"
      ],
      "metadata": {
        "id": "ZEjFYmlThw97",
        "colab": {
          "base_uri": "https://localhost:8080/"
        },
        "outputId": "f24ebee3-fa9f-4c72-9763-08e8d63372db"
      },
      "execution_count": 12,
      "outputs": [
        {
          "output_type": "stream",
          "name": "stdout",
          "text": [
            "tf.Tensor(\n",
            "[[0 0 0 0 0 0 0 0 0 0 0]\n",
            " [0 0 0 0 0 0 0 0 0 0 0]\n",
            " [0 0 0 1 2 3 0 0 0 0 0]\n",
            " [0 0 0 4 5 6 0 0 0 0 0]\n",
            " [0 0 0 0 0 0 0 0 0 0 0]\n",
            " [0 0 0 0 0 0 0 0 0 0 0]\n",
            " [0 0 0 0 0 0 0 0 0 0 0]\n",
            " [0 0 0 0 0 0 0 0 0 0 0]], shape=(8, 11), dtype=int32)\n"
          ]
        }
      ]
    },
    {
      "cell_type": "code",
      "source": [
        "# Use axis, to output the column\n",
        "tf.gather(p1,[0,1],axis = 1)"
      ],
      "metadata": {
        "colab": {
          "base_uri": "https://localhost:8080/"
        },
        "id": "89gRG1mDmdwh",
        "outputId": "5aa08ce6-5717-4f14-8d57-40955f37f221"
      },
      "execution_count": 36,
      "outputs": [
        {
          "output_type": "execute_result",
          "data": {
            "text/plain": [
              "<tf.Tensor: shape=(2, 2), dtype=int32, numpy=\n",
              "array([[1, 2],\n",
              "       [4, 5]], dtype=int32)>"
            ]
          },
          "metadata": {},
          "execution_count": 36
        }
      ]
    },
    {
      "cell_type": "code",
      "source": [],
      "metadata": {
        "id": "CA-lbEH2m6ME"
      },
      "execution_count": null,
      "outputs": []
    }
  ]
}