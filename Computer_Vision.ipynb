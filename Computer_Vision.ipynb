{
  "nbformat": 4,
  "nbformat_minor": 0,
  "metadata": {
    "colab": {
      "provenance": [],
      "authorship_tag": "ABX9TyMdRHnd5nXy+9XXIVNmh7aK",
      "include_colab_link": true
    },
    "kernelspec": {
      "name": "python3",
      "display_name": "Python 3"
    },
    "language_info": {
      "name": "python"
    }
  },
  "cells": [
    {
      "cell_type": "markdown",
      "metadata": {
        "id": "view-in-github",
        "colab_type": "text"
      },
      "source": [
        "<a href=\"https://colab.research.google.com/github/OluwatodimuAdegoke/ComputerVisionCourse/blob/main/Computer_Vision.ipynb\" target=\"_parent\"><img src=\"https://colab.research.google.com/assets/colab-badge.svg\" alt=\"Open In Colab\"/></a>"
      ]
    },
    {
      "cell_type": "code",
      "execution_count": null,
      "metadata": {
        "id": "n1wbM5Nmu1A9"
      },
      "outputs": [],
      "source": [
        "import tensorflow as tf"
      ]
    },
    {
      "cell_type": "code",
      "source": [
        "tensor_zero_d = tf.constant(4)\n",
        "print(tensor_zero_d)"
      ],
      "metadata": {
        "colab": {
          "base_uri": "https://localhost:8080/"
        },
        "id": "wNaF_KWTu8DL",
        "outputId": "52337858-9921-445d-f168-0c91abc76d34"
      },
      "execution_count": null,
      "outputs": [
        {
          "output_type": "stream",
          "name": "stdout",
          "text": [
            "tf.Tensor(4, shape=(), dtype=int32)\n"
          ]
        }
      ]
    },
    {
      "cell_type": "code",
      "source": [
        "tensor_one_d = tf.constant([2,0,-3])\n",
        "print(tensor_one_d)"
      ],
      "metadata": {
        "colab": {
          "base_uri": "https://localhost:8080/"
        },
        "id": "ooS0sxiLvIQ8",
        "outputId": "1dc38966-2c05-4521-f6e2-9cb11f5090cd"
      },
      "execution_count": null,
      "outputs": [
        {
          "output_type": "stream",
          "name": "stdout",
          "text": [
            "tf.Tensor([ 2  0 -3], shape=(3,), dtype=int32)\n"
          ]
        }
      ]
    },
    {
      "cell_type": "code",
      "source": [
        "tensor_two_d = tf.constant([[1,2,3],[1,2,3]])\n",
        "print(tensor_two_d)"
      ],
      "metadata": {
        "colab": {
          "base_uri": "https://localhost:8080/"
        },
        "id": "naQU1tYKvUw2",
        "outputId": "211f4ebf-4d6a-4124-f444-6429ba753d08"
      },
      "execution_count": null,
      "outputs": [
        {
          "output_type": "stream",
          "name": "stdout",
          "text": [
            "tf.Tensor(\n",
            "[[1 2 3]\n",
            " [1 2 3]], shape=(2, 3), dtype=int32)\n"
          ]
        }
      ]
    },
    {
      "cell_type": "code",
      "source": [
        "tensor_three_d = tf.constant([\n",
        "    [[1,2,0],[2,3,4]],[[1,2,0],[2,3,4]],[[1,2,0],[2,3,4]]\n",
        "])\n",
        "print(tensor_three_d)"
      ],
      "metadata": {
        "colab": {
          "base_uri": "https://localhost:8080/"
        },
        "id": "XiOy3-tYvjZi",
        "outputId": "1a895a0c-d09d-457e-e08b-53d9c0824c2f"
      },
      "execution_count": null,
      "outputs": [
        {
          "output_type": "stream",
          "name": "stdout",
          "text": [
            "tf.Tensor(\n",
            "[[[1 2 0]\n",
            "  [2 3 4]]\n",
            "\n",
            " [[1 2 0]\n",
            "  [2 3 4]]\n",
            "\n",
            " [[1 2 0]\n",
            "  [2 3 4]]], shape=(3, 2, 3), dtype=int32)\n"
          ]
        }
      ]
    },
    {
      "cell_type": "code",
      "source": [
        "print(tensor_three_d.shape)"
      ],
      "metadata": {
        "colab": {
          "base_uri": "https://localhost:8080/"
        },
        "id": "pwYDBFb7v36W",
        "outputId": "bbfc3e02-a2a3-4f1f-ba14-7341e985c57d"
      },
      "execution_count": null,
      "outputs": [
        {
          "output_type": "stream",
          "name": "stdout",
          "text": [
            "(3, 2, 3)\n"
          ]
        }
      ]
    },
    {
      "cell_type": "code",
      "source": [
        "tensor_bool = tf.constant([True,True,False])\n",
        "print(tensor_bool)"
      ],
      "metadata": {
        "colab": {
          "base_uri": "https://localhost:8080/"
        },
        "id": "ruBWU0pkwO-D",
        "outputId": "31916317-6d18-4cc2-b741-7fd3acbc9017"
      },
      "execution_count": null,
      "outputs": [
        {
          "output_type": "stream",
          "name": "stdout",
          "text": [
            "tf.Tensor([ True  True False], shape=(3,), dtype=bool)\n"
          ]
        }
      ]
    },
    {
      "cell_type": "code",
      "source": [
        "import numpy as np"
      ],
      "metadata": {
        "id": "OsB4BgIg-B1Z"
      },
      "execution_count": null,
      "outputs": []
    },
    {
      "cell_type": "code",
      "source": [
        "np_array = np.array([1,2,4])\n",
        "print(np_array)"
      ],
      "metadata": {
        "colab": {
          "base_uri": "https://localhost:8080/"
        },
        "id": "c5yUmNjN-r12",
        "outputId": "9844192c-c352-46be-8833-2152e2065c93"
      },
      "execution_count": null,
      "outputs": [
        {
          "output_type": "stream",
          "name": "stdout",
          "text": [
            "[1 2 4]\n"
          ]
        }
      ]
    },
    {
      "cell_type": "code",
      "source": [
        "converted_tensor = tf.convert_to_tensor(np_array)\n",
        "print(converted_tensor)"
      ],
      "metadata": {
        "colab": {
          "base_uri": "https://localhost:8080/"
        },
        "id": "jQMV5efQ-waz",
        "outputId": "2d7a945e-d1b5-4f5b-e8fd-5a85532da521"
      },
      "execution_count": null,
      "outputs": [
        {
          "output_type": "stream",
          "name": "stdout",
          "text": [
            "tf.Tensor([1 2 4], shape=(3,), dtype=int64)\n"
          ]
        }
      ]
    },
    {
      "cell_type": "code",
      "source": [
        "#Identity matrix\n",
        "eye_tensor = tf.eye(5,2)\n",
        "print(3*eye_tensor)"
      ],
      "metadata": {
        "colab": {
          "base_uri": "https://localhost:8080/"
        },
        "id": "cyvg67XW-0eV",
        "outputId": "fd29433f-9a27-497a-d7fd-e8e94e830939"
      },
      "execution_count": null,
      "outputs": [
        {
          "output_type": "stream",
          "name": "stdout",
          "text": [
            "tf.Tensor(\n",
            "[[3. 0.]\n",
            " [0. 3.]\n",
            " [0. 0.]\n",
            " [0. 0.]\n",
            " [0. 0.]], shape=(5, 2), dtype=float32)\n"
          ]
        }
      ]
    },
    {
      "cell_type": "code",
      "source": [
        "#Creates a tensor filled with a scalar value\n",
        "fill_tensor = tf.fill([3,4],5)\n",
        "print(fill_tensor)\n",
        "#Creates a tensor with only ones, there is also tf.zero and tf.zeros_like\n",
        "one_tensor = tf.ones([5,5])\n",
        "print(one_tensor)\n",
        "#Creates a tensor of ones with the same shape as the input\n",
        "tf.ones_like(fill_tensor)\n",
        "print(fill_tensor)"
      ],
      "metadata": {
        "colab": {
          "base_uri": "https://localhost:8080/"
        },
        "id": "KOp2EPOL_Dju",
        "outputId": "c218283a-8289-4174-8c79-9010c881f407"
      },
      "execution_count": null,
      "outputs": [
        {
          "output_type": "stream",
          "name": "stdout",
          "text": [
            "tf.Tensor(\n",
            "[[5 5 5 5]\n",
            " [5 5 5 5]\n",
            " [5 5 5 5]], shape=(3, 4), dtype=int32)\n",
            "tf.Tensor(\n",
            "[[1. 1. 1. 1. 1.]\n",
            " [1. 1. 1. 1. 1.]\n",
            " [1. 1. 1. 1. 1.]\n",
            " [1. 1. 1. 1. 1.]\n",
            " [1. 1. 1. 1. 1.]], shape=(5, 5), dtype=float32)\n",
            "tf.Tensor(\n",
            "[[5 5 5 5]\n",
            " [5 5 5 5]\n",
            " [5 5 5 5]], shape=(3, 4), dtype=int32)\n"
          ]
        }
      ]
    },
    {
      "cell_type": "code",
      "source": [
        "\n",
        "#Create random values, there is also tf.random.uniform(shape,minval, maxval)\n",
        "random_tensor = tf.random.normal([3,3],mean=0.0,stddev=1.0,dtype=tf.dtypes.float32)\n",
        "print(random_tensor)"
      ],
      "metadata": {
        "colab": {
          "base_uri": "https://localhost:8080/"
        },
        "id": "VrRD_Mu4CyBC",
        "outputId": "992d2ce0-1c8c-4eda-f938-49d2dbd9440c"
      },
      "execution_count": null,
      "outputs": [
        {
          "output_type": "stream",
          "name": "stdout",
          "text": [
            "tf.Tensor(\n",
            "[[ 0.4661633   0.36314335 -0.7084536 ]\n",
            " [-0.19733104 -0.02985091 -0.74808335]\n",
            " [ 0.8338513   0.04642004 -0.7173452 ]], shape=(3, 3), dtype=float32)\n"
          ]
        }
      ]
    },
    {
      "cell_type": "markdown",
      "source": [
        "**Tensor Indexing**"
      ],
      "metadata": {
        "id": "i9Nv73USID2P"
      }
    },
    {
      "cell_type": "code",
      "source": [
        "# Uses [minindex:maxindex+1:step]\n",
        "# 1D\n",
        "tensor_indexed = tf.constant([2,4,4,5,2])\n",
        "print(tensor_indexed)\n",
        "print(tensor_indexed[1:4+1])"
      ],
      "metadata": {
        "id": "GrmuJTz7E8EH",
        "colab": {
          "base_uri": "https://localhost:8080/"
        },
        "outputId": "f68aa3e8-08b0-4613-9a46-faddaee834cd"
      },
      "execution_count": null,
      "outputs": [
        {
          "output_type": "stream",
          "name": "stdout",
          "text": [
            "tf.Tensor([2 4 4 5 2], shape=(5,), dtype=int32)\n",
            "tf.Tensor([4 4 5 2], shape=(4,), dtype=int32)\n"
          ]
        }
      ]
    },
    {
      "cell_type": "code",
      "source": [
        "# 2D\n",
        "tensor_two_d = tf.constant([\n",
        "    [1,2,0],\n",
        "    [2,4,5],\n",
        "    [6,7,8],\n",
        "    [4,5,6]\n",
        "])\n",
        "print(tensor_two_d[0:2,:])"
      ],
      "metadata": {
        "colab": {
          "base_uri": "https://localhost:8080/"
        },
        "id": "SfKfgQ1-4R2P",
        "outputId": "20d5a442-34f1-480d-f999-563e039340bb"
      },
      "execution_count": null,
      "outputs": [
        {
          "output_type": "stream",
          "name": "stdout",
          "text": [
            "tf.Tensor(\n",
            "[[1 2 0]\n",
            " [2 4 5]], shape=(2, 3), dtype=int32)\n"
          ]
        }
      ]
    },
    {
      "cell_type": "markdown",
      "source": [
        "**Linear Algebra**"
      ],
      "metadata": {
        "id": "bfmnIPLg6tNs"
      }
    },
    {
      "cell_type": "code",
      "source": [
        "# Matric multiplication\n",
        "x_1 = tf.constant([[10,0],[1,2]], dtype = tf.float32)\n",
        "x_2 = tf.constant([[1,2,2],[5,3,2]], dtype = tf.float32)\n",
        "\n",
        "print(tf.linalg.matmul(x_1,x_2))"
      ],
      "metadata": {
        "id": "Qq105fGj5YEY",
        "colab": {
          "base_uri": "https://localhost:8080/"
        },
        "outputId": "4ae399f8-d902-4bd3-9b8b-910790661158"
      },
      "execution_count": null,
      "outputs": [
        {
          "output_type": "stream",
          "name": "stdout",
          "text": [
            "tf.Tensor(\n",
            "[[10. 20. 20.]\n",
            " [11.  8.  6.]], shape=(2, 3), dtype=float32)\n"
          ]
        }
      ]
    },
    {
      "cell_type": "code",
      "source": [
        "# Get the inverse of a matrix. matrix * inverse gets the identity matrix\n",
        "print(tf.linalg.inv(x_1)@x_1)"
      ],
      "metadata": {
        "colab": {
          "base_uri": "https://localhost:8080/"
        },
        "id": "Ifbz-cVNEQnw",
        "outputId": "f50a44f7-42b2-4f4d-e21b-9e2db0e28b5c"
      },
      "execution_count": null,
      "outputs": [
        {
          "output_type": "stream",
          "name": "stdout",
          "text": [
            "tf.Tensor(\n",
            "[[1. 0.]\n",
            " [0. 1.]], shape=(2, 2), dtype=float32)\n"
          ]
        }
      ]
    },
    {
      "cell_type": "code",
      "source": [
        "# SVD\n",
        "print(tf.linalg.svd(x_1))"
      ],
      "metadata": {
        "colab": {
          "base_uri": "https://localhost:8080/"
        },
        "id": "EtaRyjXkIhHm",
        "outputId": "79537556-b914-4492-abf6-97ee3beef181"
      },
      "execution_count": null,
      "outputs": [
        {
          "output_type": "stream",
          "name": "stdout",
          "text": [
            "(<tf.Tensor: shape=(2,), dtype=float32, numpy=array([10.051928 ,  1.9896687], dtype=float32)>, <tf.Tensor: shape=(2, 2), dtype=float32, numpy=\n",
            "array([[ 0.99462306, -0.1035621 ],\n",
            "       [ 0.1035621 ,  0.99462306]], dtype=float32)>, <tf.Tensor: shape=(2, 2), dtype=float32, numpy=\n",
            "array([[ 0.99978775, -0.02060542],\n",
            "       [ 0.02060542,  0.99978775]], dtype=float32)>)\n"
          ]
        }
      ]
    },
    {
      "cell_type": "code",
      "source": [
        "# Einsum Operator np.einsum((\"ij,jk -> ik\", A, B))\n",
        "# The einsum allows you to use your own formula\n",
        "# E.g np.einsum(\"ij,ij -> ij\",A,B)\n",
        "x_3 = tf.constant([[10,0],[1,2]], dtype = tf.float32)\n",
        "x_4 = tf.constant([[10,0],[1,2]], dtype = tf.float32)\n",
        "print(np.einsum('ij -> ji',x_3))\n",
        "print(np.einsum('ij,ij -> ij',x_3,x_4))\n",
        "print(np.einsum('ij,jk -> ik',x_3,x_4))"
      ],
      "metadata": {
        "colab": {
          "base_uri": "https://localhost:8080/"
        },
        "id": "-hWdsPQsJPiR",
        "outputId": "c974c8da-ff33-45ab-9637-0547bc9ac3dd"
      },
      "execution_count": null,
      "outputs": [
        {
          "output_type": "stream",
          "name": "stdout",
          "text": [
            "[[10.  1.]\n",
            " [ 0.  2.]]\n",
            "[[100.   0.]\n",
            " [  1.   4.]]\n",
            "[[100.   0.]\n",
            " [ 12.   4.]]\n"
          ]
        }
      ]
    },
    {
      "cell_type": "code",
      "source": [
        "# 3D Arrays\n",
        "A = np.ones((2,3,4))\n",
        "B = np.random.normal(3,2,size=(2,4,5))\n",
        "print(\"Multiplication :\")\n",
        "print( np.einsum('aij,ajk -> aik',A,B) )\n",
        "\n",
        "# Sum Array\n",
        "print(\"Sum :\")\n",
        "print(np.einsum('ijk-> i',A))"
      ],
      "metadata": {
        "colab": {
          "base_uri": "https://localhost:8080/"
        },
        "id": "fZAq53cpLCPH",
        "outputId": "41bec4e5-08b7-43ac-fc7e-ec30c462bcba"
      },
      "execution_count": null,
      "outputs": [
        {
          "output_type": "stream",
          "name": "stdout",
          "text": [
            "Multiplication :\n",
            "[[[ 4.94399712  5.80575812 16.13045203 18.37462865 13.2445404 ]\n",
            "  [ 4.94399712  5.80575812 16.13045203 18.37462865 13.2445404 ]\n",
            "  [ 4.94399712  5.80575812 16.13045203 18.37462865 13.2445404 ]]\n",
            "\n",
            " [[13.55982593  8.77374703  4.8378012  12.30892497 10.05203428]\n",
            "  [13.55982593  8.77374703  4.8378012  12.30892497 10.05203428]\n",
            "  [13.55982593  8.77374703  4.8378012  12.30892497 10.05203428]]]\n",
            "Sum :\n",
            "[12. 12.]\n"
          ]
        }
      ]
    },
    {
      "cell_type": "code",
      "source": [],
      "metadata": {
        "id": "OsfRYxESMAd-"
      },
      "execution_count": null,
      "outputs": []
    },
    {
      "cell_type": "code",
      "source": [],
      "metadata": {
        "id": "p6TGwZqOS0XR"
      },
      "execution_count": null,
      "outputs": []
    }
  ]
}